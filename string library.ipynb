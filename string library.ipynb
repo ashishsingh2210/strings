{
 "cells": [
  {
   "cell_type": "code",
   "execution_count": 2,
   "metadata": {},
   "outputs": [
    {
     "name": "stdout",
     "output_type": "stream",
     "text": [
      "False\n"
     ]
    }
   ],
   "source": [
    "str1=\"Ashish is my name,\"\n",
    "str1.capitalize()\n",
    "str1.title()\n",
    "str1.isalpha()\n",
    "str1.isdigit() #tocheck that all characters in digit``\n",
    "str1.islower() # to chech all character in lower case if you put any special charater in it then i will not consider and give true value\n",
    "str1.isupper()\n",
    "str1.lower()\n",
    "str1.upper()\n",
    "str1.swapcase() # convert uper to lower or lower to upper\n",
    "ord( _ ) # use to get asii value fr given character\n",
    "chr( _ ) # use to find character value from ascii value\n",
    "join(list) # use to join the list\n",
    "\n"
   ]
  },
  {
   "cell_type": "code",
   "execution_count": null,
   "metadata": {},
   "outputs": [],
   "source": [
    "# data -- information -- meta data \n",
    "## Data -  5          , information -  $5\n",
    "## dob -                            , age (meta data-- finding a another data from given data like finding age from dob)"
   ]
  },
  {
   "cell_type": "code",
   "execution_count": 5,
   "metadata": {},
   "outputs": [
    {
     "name": "stdout",
     "output_type": "stream",
     "text": [
      "ashish\n"
     ]
    }
   ],
   "source": [
    "email='ashish.solank@gmail.com'\n",
    "email.split('@')[0].split('.')[0]"
   ]
  },
  {
   "cell_type": "markdown",
   "metadata": {},
   "source": []
  },
  {
   "cell_type": "code",
   "execution_count": 5,
   "metadata": {},
   "outputs": [
    {
     "name": "stdout",
     "output_type": "stream",
     "text": [
      "enter the string : ashish\n"
     ]
    },
    {
     "data": {
      "text/plain": [
       "True"
      ]
     },
     "execution_count": 5,
     "metadata": {},
     "output_type": "execute_result"
    }
   ],
   "source": [
    "#1. Modify the find_ch() function so that it starts finding the character from the specified position in the\n",
    "#string.\n",
    "def find_ch(n):\n",
    "    string = input('enter the string : ')\n",
    "    return n in string\n",
    "\n",
    "find_ch('as')\n"
   ]
  },
  {
   "cell_type": "code",
   "execution_count": 10,
   "metadata": {},
   "outputs": [
    {
     "name": "stdout",
     "output_type": "stream",
     "text": [
      "enter the string : asdfghjklpoiuytrewqzxcvbnm\n",
      "26\n"
     ]
    }
   ],
   "source": [
    "#2. Write a program to calculate the length of a string\n",
    "str1=str(input('enter the string : '))\n",
    "count = 0\n",
    "for i in str1:\n",
    "    count= count+1\n",
    "print(count)"
   ]
  },
  {
   "cell_type": "code",
   "execution_count": 54,
   "metadata": {},
   "outputs": [
    {
     "data": {
      "text/plain": [
       "'asme'"
      ]
     },
     "execution_count": 54,
     "metadata": {},
     "output_type": "execute_result"
    }
   ],
   "source": [
    "#3. Write a Python program to get a string made of first 2 and the last 2 characters from a given string . If\n",
    "#the string length is less than 2,return instead the empty string\n",
    "def frst2Lst2Ch(n):\n",
    "    count = 0\n",
    "    for i in n:\n",
    "        count= count+1\n",
    "    if count<2:\n",
    "        return\n",
    "    else:\n",
    "        for j in range(count+1):\n",
    "            if j==0:\n",
    "                a=n[j]\n",
    "          \n",
    "            if j==1:\n",
    "                b=n[j]\n",
    "          \n",
    "            j=-j\n",
    "            if j==-1:\n",
    "                d=n[j]\n",
    "            \n",
    "            if j==-2:\n",
    "                e=n[j]\n",
    "            \n",
    "            j=-j\n",
    "    c=a+b+e+d\n",
    "    return c\n",
    "\n",
    "frst2Lst2Ch('ashish is my name')       \n"
   ]
  },
  {
   "cell_type": "code",
   "execution_count": 53,
   "metadata": {},
   "outputs": [
    {
     "data": {
      "text/plain": [
       "'@y @ame @s @shish'"
      ]
     },
     "execution_count": 53,
     "metadata": {},
     "output_type": "execute_result"
    }
   ],
   "source": [
    "#4. Write a Python program to get a string from a given string where all occurences of its first character\n",
    "#have been changed to '@',except the first character itself\n",
    "line = 'my name is ashish'\n",
    "c= 0\n",
    "str1=''\n",
    "a=line.split()\n",
    "for i in a:\n",
    "    d=a[c]\n",
    "    e=d.replace(d[0],'@')\n",
    "    for i in range(0,1):\n",
    "        str1= str1+ ' '+e\n",
    "    c=c+1\n",
    "str1=str1.lstrip()\n",
    "str1"
   ]
  },
  {
   "cell_type": "code",
   "execution_count": 75,
   "metadata": {},
   "outputs": [
    {
     "name": "stdout",
     "output_type": "stream",
     "text": [
      "yy naye is ashish mou name is ghost\n"
     ]
    }
   ],
   "source": [
    "#5. Write a Python program to get a single string from two given strings,separated by a space and swap\n",
    "#the first two characters of each string\n",
    "\n",
    "str1 = 'my name is ashish'\n",
    "str2 = 'you name is ghost'\n",
    "\n",
    "q=str1[0]\n",
    "w=str2[0]\n",
    "str1=str1.replace(str1[0],w)\n",
    "str2=str2.replace(str2[0],q)\n",
    "strt=str1+' '+str2\n",
    "print(strt)"
   ]
  },
  {
   "cell_type": "code",
   "execution_count": null,
   "metadata": {},
   "outputs": [],
   "source": []
  },
  {
   "cell_type": "code",
   "execution_count": 49,
   "metadata": {},
   "outputs": [
    {
     "name": "stdout",
     "output_type": "stream",
     "text": [
      "enter the string : ashish is my name\n",
      "else\n"
     ]
    },
    {
     "data": {
      "text/plain": [
       "'ashish is my ning'"
      ]
     },
     "execution_count": 49,
     "metadata": {},
     "output_type": "execute_result"
    }
   ],
   "source": [
    "#6. Write a Python program to add 'ing' at the end of a given string(Length should be atleast 3) .If the\n",
    "#given string already ends with 'ing' the add 'ly' instead. If the string length of the given string is less\n",
    "#than 3 then leave it unchanged\n",
    "\n",
    "\n",
    "sr1 = str(input('enter the string : '))\n",
    "a=len(sr1)\n",
    "\n",
    "if 'ing' not in sr1[-1:-6]:\n",
    "    print('else')\n",
    "    nsr=sr1[0:a-3] + 'ing'\n",
    "\n",
    "else:\n",
    "    print('if')\n",
    "    nsr=sr1[0:a-1]+'ly'\n",
    "\n",
    "nsr"
   ]
  },
  {
   "cell_type": "code",
   "execution_count": null,
   "metadata": {},
   "outputs": [],
   "source": []
  },
  {
   "cell_type": "code",
   "execution_count": null,
   "metadata": {},
   "outputs": [],
   "source": []
  },
  {
   "cell_type": "code",
   "execution_count": 87,
   "metadata": {},
   "outputs": [
    {
     "data": {
      "text/plain": [
       "'i am good and my work is also bad poor'"
      ]
     },
     "execution_count": 87,
     "metadata": {},
     "output_type": "execute_result"
    }
   ],
   "source": [
    "#7. Write a program to find the first appearence of the substring 'not' and 'poor' from a given string, if 'bad'\n",
    "#follows 'poor', replace the whole 'not'...'poor' substring with 'good'.Return the resulting string.\n",
    "\n",
    "str1='i am bad as poor and my work is also bad poor'\n",
    "a=str1.find('bad')\n",
    "b=str1.find('poor')\n",
    "c=len('poor')\n",
    "if str1.find('bad')<str1.find('poor'):\n",
    "    str1=str1.replace(str1[a:b+c],'good')\n",
    "\n",
    "str1\n"
   ]
  },
  {
   "cell_type": "code",
   "execution_count": null,
   "metadata": {},
   "outputs": [],
   "source": []
  },
  {
   "cell_type": "code",
   "execution_count": 158,
   "metadata": {},
   "outputs": [
    {
     "data": {
      "text/plain": [
       "7"
      ]
     },
     "execution_count": 158,
     "metadata": {},
     "output_type": "execute_result"
    }
   ],
   "source": [
    "#8. Write a function that takes a list of words and returns the length of the longest one.\n",
    "\n",
    "def length(List):\n",
    "    d=[]\n",
    "    for i in range(len(List)):\n",
    "        c=0\n",
    "        for j in List[i]:\n",
    "            c=c+1   \n",
    "        d.append(c)\n",
    "    return max(d)\n",
    "        \n",
    "\n",
    "l=['asfsh','kudasku','alien','ashu','ghost']\n",
    "length(l)"
   ]
  },
  {
   "cell_type": "code",
   "execution_count": 11,
   "metadata": {},
   "outputs": [
    {
     "data": {
      "text/plain": [
       "'my name is ashish'"
      ]
     },
     "execution_count": 11,
     "metadata": {},
     "output_type": "execute_result"
    }
   ],
   "source": [
    "#9. Write a program to remove the nth index character from a non-empty string\n",
    "str1='my name is ashisha'\n",
    "str1=str1[:-1]\n",
    "str1"
   ]
  },
  {
   "cell_type": "code",
   "execution_count": 5,
   "metadata": {},
   "outputs": [
    {
     "name": "stdout",
     "output_type": "stream",
     "text": [
      " name is ashi\n",
      "sh name is ashimy\n"
     ]
    }
   ],
   "source": [
    "#10. Write a program to change a given string to a new string where the first and the last characters have\n",
    "#been exchanged\n",
    "string= 'my name is ashish'\n",
    "string2 = string[2:-2]\n",
    "print(string2)\n",
    "fch=string[:2]\n",
    "lch=string[-2:]\n",
    "new_string=lch+string2+fch\n",
    "print(new_string)"
   ]
  },
  {
   "cell_type": "code",
   "execution_count": null,
   "metadata": {},
   "outputs": [],
   "source": []
  },
  {
   "cell_type": "code",
   "execution_count": null,
   "metadata": {},
   "outputs": [],
   "source": []
  }
 ],
 "metadata": {
  "kernelspec": {
   "display_name": "Python 3",
   "language": "python",
   "name": "python3"
  },
  "language_info": {
   "codemirror_mode": {
    "name": "ipython",
    "version": 3
   },
   "file_extension": ".py",
   "mimetype": "text/x-python",
   "name": "python",
   "nbconvert_exporter": "python",
   "pygments_lexer": "ipython3",
   "version": "3.7.1"
  }
 },
 "nbformat": 4,
 "nbformat_minor": 2
}
